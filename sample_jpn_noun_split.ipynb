{
 "cells": [
  {
   "cell_type": "markdown",
   "metadata": {},
   "source": [
    "# 空白で区切られた固有名詞のある文字列を分割\n",
    "\n",
    "\n",
    "**分割対象の制約**\n",
    "- 全角空白が3つまたは4つのデータのみが存在している\n",
    "   - 全角空白が2つの`'ほげ　ふが　ほげら太郎'`や全角空白が5つある`'ほげ　ふが23　ぴよ　ほげら花子　1984　fuga23'`のようなテキストがない\n",
    "- 全角空白で分割したときに，左側2つと右側2つは必ず存在している\n",
    "   - `'ほげ　ふが　ほげら太郎　42'`のとき，\n",
    "      > ほげ / ふが / ほげら太郎 / 42\n",
    "\n",
    "      のように分割されて，左側2つには「ほげ」と「ふが」が存在し，右側2つには「ほげら太郎j」と「42」が存在している．\n",
    "   - `'ほげ　ふが23　ぴよ　ほげら花子　1729'`のとき， \n",
    "      > ほげ / ふが23 / ぴよ / ほげら花子 / 1729 \n",
    "      \n",
    "      のように分割されて，左側2つには「ほげ」と「ふが23」が存在し，右側2つには「ほげら花子」と「1729」が存在している\n",
    "   - `'ほげ　ふが　42'` や `'ほげら太郎　42'` ，`'ほげ　ふが'` のようなデータは存在しない\n",
    "\n"
   ]
  },
  {
   "cell_type": "code",
   "execution_count": 1,
   "metadata": {},
   "outputs": [],
   "source": [
    "import pandas as pd\n",
    "import japanize_matplotlib"
   ]
  },
  {
   "cell_type": "code",
   "execution_count": 2,
   "metadata": {},
   "outputs": [],
   "source": [
    "texts = [\n",
    "    'ほげ　ふが　ほげら太郎　42',\n",
    "    'ほげ　ふが23　ぴよ　ほげら花子　1729',\n",
    "    'ほげ　ふが23　ぴよ　ほげら花子　1984',\n",
    "]"
   ]
  },
  {
   "cell_type": "code",
   "execution_count": 3,
   "metadata": {},
   "outputs": [],
   "source": [
    "\n",
    "texts_splited = {\n",
    "    \"hoge\" : [],\n",
    "    \"fuga\" : [],\n",
    "    \"piyo\" : [],\n",
    "    \"hogera\" : [],\n",
    "    \"hogehoge\" : [],\n",
    "}\n",
    "for text in texts:\n",
    "    spl = text.split('　')\n",
    "    spl_len = len(spl)\n",
    "    if spl_len == 5:\n",
    "        texts_splited[\"hoge\"].append(spl[0])\n",
    "        texts_splited[\"fuga\"].append(spl[1])\n",
    "        texts_splited[\"piyo\"].append(spl[2])\n",
    "        texts_splited[\"hogera\"].append(spl[3])\n",
    "        texts_splited[\"hogehoge\"].append(spl[4])\n",
    "    elif spl_len == 4:\n",
    "        texts_splited[\"hoge\"].append(spl[0])\n",
    "        texts_splited[\"fuga\"].append(spl[1])\n",
    "        texts_splited[\"piyo\"].append('None')\n",
    "        texts_splited[\"hogera\"].append(spl[2])\n",
    "        texts_splited[\"hogehoge\"].append(spl[3])\n",
    "\n",
    "df = pd.DataFrame(texts_splited, columns=texts_splited.keys())"
   ]
  },
  {
   "cell_type": "code",
   "execution_count": 4,
   "metadata": {},
   "outputs": [
    {
     "data": {
      "text/html": [
       "<div>\n",
       "<style scoped>\n",
       "    .dataframe tbody tr th:only-of-type {\n",
       "        vertical-align: middle;\n",
       "    }\n",
       "\n",
       "    .dataframe tbody tr th {\n",
       "        vertical-align: top;\n",
       "    }\n",
       "\n",
       "    .dataframe thead th {\n",
       "        text-align: right;\n",
       "    }\n",
       "</style>\n",
       "<table border=\"1\" class=\"dataframe\">\n",
       "  <thead>\n",
       "    <tr style=\"text-align: right;\">\n",
       "      <th></th>\n",
       "      <th>hoge</th>\n",
       "      <th>fuga</th>\n",
       "      <th>piyo</th>\n",
       "      <th>hogera</th>\n",
       "      <th>hogehoge</th>\n",
       "    </tr>\n",
       "  </thead>\n",
       "  <tbody>\n",
       "    <tr>\n",
       "      <th>0</th>\n",
       "      <td>ほげ</td>\n",
       "      <td>ふが</td>\n",
       "      <td>None</td>\n",
       "      <td>ほげら太郎</td>\n",
       "      <td>42</td>\n",
       "    </tr>\n",
       "    <tr>\n",
       "      <th>1</th>\n",
       "      <td>ほげ</td>\n",
       "      <td>ふが23</td>\n",
       "      <td>ぴよ</td>\n",
       "      <td>ほげら花子</td>\n",
       "      <td>1729</td>\n",
       "    </tr>\n",
       "    <tr>\n",
       "      <th>2</th>\n",
       "      <td>ほげ</td>\n",
       "      <td>ふが23</td>\n",
       "      <td>ぴよ</td>\n",
       "      <td>ほげら花子</td>\n",
       "      <td>1984</td>\n",
       "    </tr>\n",
       "  </tbody>\n",
       "</table>\n",
       "</div>"
      ],
      "text/plain": [
       "  hoge  fuga  piyo hogera hogehoge\n",
       "0   ほげ    ふが  None  ほげら太郎       42\n",
       "1   ほげ  ふが23    ぴよ  ほげら花子     1729\n",
       "2   ほげ  ふが23    ぴよ  ほげら花子     1984"
      ]
     },
     "execution_count": 4,
     "metadata": {},
     "output_type": "execute_result"
    }
   ],
   "source": [
    "df"
   ]
  },
  {
   "cell_type": "code",
   "execution_count": 5,
   "metadata": {},
   "outputs": [
    {
     "data": {
      "text/plain": [
       "<Axes: xlabel='fuga'>"
      ]
     },
     "execution_count": 5,
     "metadata": {},
     "output_type": "execute_result"
    },
    {
     "data": {
      "image/png": "[encoded data removed]",
      "text/plain": [
       "<Figure size 640x480 with 1 Axes>"
      ]
     },
     "metadata": {},
     "output_type": "display_data"
    }
   ],
   "source": [
    "df['fuga'].value_counts().plot(kind='bar')"
   ]
  },
  {
   "cell_type": "markdown",
   "metadata": {},
   "source": [
    "## プログラムの解説"
   ]
  },
  {
   "cell_type": "code",
   "execution_count": 6,
   "metadata": {},
   "outputs": [],
   "source": [
    "import pandas as pd\n",
    "import japanize_matplotlib"
   ]
  },
  {
   "cell_type": "markdown",
   "metadata": {},
   "source": [
    "分割した結果は`dict`型になるので，\n",
    "結果を見やすくするために`pandas.DataFrame`を使用します．\n",
    "可視化するときに，日本語を表示したいので`japanize_matplotlib`をインポートします．\n"
   ]
  },
  {
   "cell_type": "code",
   "execution_count": 7,
   "metadata": {},
   "outputs": [],
   "source": [
    "texts = [\n",
    "    'ほげ　ふが　ほげら太郎　42',\n",
    "    'ほげ　ふが23　ぴよ　ほげら花子　1729',\n",
    "    'ほげ　ふが23　ぴよ　ほげら花子　1984',\n",
    "]"
   ]
  },
  {
   "cell_type": "markdown",
   "metadata": {},
   "source": [
    "解説で扱うサンプルデータはこの3つのテキストです．\n",
    "`list`型の変数`texts`に分割対象のテキストを複数格納しています．\n",
    "\n",
    "実践するときには，`pandas.DataFrame`型の変数`df`を用意して，\n",
    "`df['列名'].unique()`の結果を変数`texts`の変わりに使うことになると思います．\n"
   ]
  },
  {
   "cell_type": "code",
   "execution_count": 8,
   "metadata": {},
   "outputs": [],
   "source": [
    "texts_splited = {\n",
    "    \"hoge\" : [],\n",
    "    \"fuga\" : [],\n",
    "    \"piyo\" : [],\n",
    "    \"hogera\" : [],\n",
    "    \"hogehoge\" : [],\n",
    "}"
   ]
  },
  {
   "cell_type": "markdown",
   "metadata": {},
   "source": [
    "`dict`型の変数`texts_splited`に分割した結果を格納します．\n",
    "この辞書のバリューは`list`型で，この`list`型に分割した結果を追加します．\n",
    "分割した対象がない場合は`'None'`を追加します．\n",
    "\n",
    "この`dict`型の変数`texts_splited`の前提は，バリューに次のような値を格納することです．\n",
    "- キー`hoge`は変数`texts`にある「ほげ」を追加\n",
    "- キー`fuga`は変数`texts`にある「ふが」または「ふが23」を追加\n",
    "- キー`piyo`は変数`texts`にある「ぴよ」を追加\n",
    "- キー`hogera`は変数`texts`にある「ほげら太郎」または「ほげら花子」を追加\n",
    "- キー`hogehoge`は変数`texts`にある「42」または「1729」を追加"
   ]
  },
  {
   "cell_type": "code",
   "execution_count": 9,
   "metadata": {},
   "outputs": [],
   "source": [
    "for text in texts:\n",
    "    spl = text.split('　')\n",
    "    spl_len = len(spl)\n",
    "    if spl_len == 5:\n",
    "        texts_splited[\"hoge\"].append(spl[0])\n",
    "        texts_splited[\"fuga\"].append(spl[1])\n",
    "        texts_splited[\"piyo\"].append(spl[2])\n",
    "        texts_splited[\"hogera\"].append(spl[3])\n",
    "        texts_splited[\"hogehoge\"].append(spl[4])\n",
    "    elif spl_len == 4:\n",
    "        texts_splited[\"hoge\"].append(spl[0])\n",
    "        texts_splited[\"fuga\"].append(spl[1])\n",
    "        texts_splited[\"piyo\"].append('None')\n",
    "        texts_splited[\"hogera\"].append(spl[2])\n",
    "        texts_splited[\"hogehoge\"].append(spl[3])"
   ]
  },
  {
   "cell_type": "markdown",
   "metadata": {},
   "source": [
    "続いて，forループを解説します．\n"
   ]
  },
  {
   "cell_type": "code",
   "execution_count": 10,
   "metadata": {},
   "outputs": [],
   "source": [
    "# 解説のために変数`texts_splited`を初期化\n",
    "texts_splited = {\n",
    "    \"hoge\" : [],\n",
    "    \"fuga\" : [],\n",
    "    \"piyo\" : [],\n",
    "    \"hogera\" : [],\n",
    "    \"hogehoge\" : [],\n",
    "}"
   ]
  },
  {
   "cell_type": "code",
   "execution_count": 11,
   "metadata": {},
   "outputs": [
    {
     "data": {
      "text/plain": [
       "'ほげ\\u3000ふが\\u3000ほげら太郎\\u300042'"
      ]
     },
     "execution_count": 11,
     "metadata": {},
     "output_type": "execute_result"
    }
   ],
   "source": [
    "text = texts[0]\n",
    "text"
   ]
  },
  {
   "cell_type": "markdown",
   "metadata": {},
   "source": [
    "変数`text`に`'ほげ\\u3000ふが\\u3000ほげら太郎\\u300042'`が代入されている状況で説明します．\n"
   ]
  },
  {
   "cell_type": "code",
   "execution_count": 12,
   "metadata": {},
   "outputs": [
    {
     "data": {
      "text/plain": [
       "['ほげ', 'ふが', 'ほげら太郎', '42']"
      ]
     },
     "execution_count": 12,
     "metadata": {},
     "output_type": "execute_result"
    }
   ],
   "source": [
    "spl = text.split('　')\n",
    "spl"
   ]
  },
  {
   "cell_type": "markdown",
   "metadata": {},
   "source": [
    "`str`型の`split()`メソッドを使って，`'ほげ\\u3000ふが\\u3000ほげら太郎\\u300042'`を全角空白で分割します．\n",
    "分割した結果は`list`型になっていて，変数`spl`に代入します．\n"
   ]
  },
  {
   "cell_type": "code",
   "execution_count": 13,
   "metadata": {},
   "outputs": [
    {
     "data": {
      "text/plain": [
       "4"
      ]
     },
     "execution_count": 13,
     "metadata": {},
     "output_type": "execute_result"
    }
   ],
   "source": [
    "spl_len = len(spl)\n",
    "spl_len"
   ]
  },
  {
   "cell_type": "markdown",
   "metadata": {},
   "source": [
    "`len()`関数の戻り値は変数`spl_len`に代入します．\n",
    "`spl_len`は分割した結果の変数`spl`の長さ 4 を保持しています．\n"
   ]
  },
  {
   "cell_type": "code",
   "execution_count": 14,
   "metadata": {},
   "outputs": [],
   "source": [
    "# if spl_len == 5:"
   ]
  },
  {
   "cell_type": "markdown",
   "metadata": {},
   "source": [
    "このif文は変数`spl_len`の値で処理を分岐しています．\n",
    "変数`spl_len`の値は4だから`False`になります．\n",
    "よって，このif文のブロックは実行されないです．\n"
   ]
  },
  {
   "cell_type": "code",
   "execution_count": 15,
   "metadata": {},
   "outputs": [],
   "source": [
    "# elif spl_len == 4:"
   ]
  },
  {
   "cell_type": "markdown",
   "metadata": {},
   "source": [
    "`if spl_len == 5:`のif文が`False`だったので，このelif文の条件を満たすかを判定します．\n",
    "変数`spl_len`の値は4だから`True`となり，このelif文のブロックが実行されます．\n"
   ]
  },
  {
   "cell_type": "code",
   "execution_count": 16,
   "metadata": {},
   "outputs": [
    {
     "data": {
      "text/plain": [
       "{'hoge': ['ほげ'], 'fuga': [], 'piyo': [], 'hogera': [], 'hogehoge': []}"
      ]
     },
     "execution_count": 16,
     "metadata": {},
     "output_type": "execute_result"
    }
   ],
   "source": [
    "texts_splited[\"hoge\"].append(spl[0])\n",
    "texts_splited"
   ]
  },
  {
   "cell_type": "markdown",
   "metadata": {},
   "source": [
    "`dict`型の変数`texts_splited`において，キーが`hoge`の`list`型のバリューに分割した結果の変数`spl`の添え字が0の要素`'ほげ'`を追加しています．\n"
   ]
  },
  {
   "cell_type": "code",
   "execution_count": 17,
   "metadata": {},
   "outputs": [
    {
     "data": {
      "text/plain": [
       "{'hoge': ['ほげ'], 'fuga': ['ふが'], 'piyo': [], 'hogera': [], 'hogehoge': []}"
      ]
     },
     "execution_count": 17,
     "metadata": {},
     "output_type": "execute_result"
    }
   ],
   "source": [
    "texts_splited[\"fuga\"].append(spl[1])\n",
    "texts_splited"
   ]
  },
  {
   "cell_type": "markdown",
   "metadata": {},
   "source": [
    "同様にして，分割した結果の変数`spl`の添え字が1の要素を`dict`型の変数`texts_splited`のキーが`fuga`の`list`型のバリューに追加します．\n"
   ]
  },
  {
   "cell_type": "code",
   "execution_count": 18,
   "metadata": {},
   "outputs": [
    {
     "data": {
      "text/plain": [
       "{'hoge': ['ほげ'],\n",
       " 'fuga': ['ふが'],\n",
       " 'piyo': ['None'],\n",
       " 'hogera': [],\n",
       " 'hogehoge': []}"
      ]
     },
     "execution_count": 18,
     "metadata": {},
     "output_type": "execute_result"
    }
   ],
   "source": [
    "texts_splited[\"piyo\"].append('None')\n",
    "texts_splited"
   ]
  },
  {
   "cell_type": "markdown",
   "metadata": {},
   "source": [
    "ここでは`'None'`を追加しています．\n",
    "変数`spl_len`の値は4になっており`texts_splited[\"piyo\"]`に追加できるテキストがないからです．\n",
    "\n",
    "> `'ほげ　ふが23　ぴよ　ほげら花子　1729'`を全角空白で分割する場合\n",
    ">\n",
    "> 分割した結果の変数`spl`の長さは 5 になります．\n",
    "> `ぴよ`を`texts_splited[\"piyo\"]`に追加します．\n"
   ]
  },
  {
   "cell_type": "code",
   "execution_count": 19,
   "metadata": {},
   "outputs": [
    {
     "data": {
      "text/plain": [
       "{'hoge': ['ほげ'],\n",
       " 'fuga': ['ふが'],\n",
       " 'piyo': ['None'],\n",
       " 'hogera': ['ほげら太郎'],\n",
       " 'hogehoge': ['42']}"
      ]
     },
     "execution_count": 19,
     "metadata": {},
     "output_type": "execute_result"
    }
   ],
   "source": [
    "texts_splited[\"hogera\"].append(spl[2])\n",
    "texts_splited[\"hogehoge\"].append(spl[3])\n",
    "texts_splited"
   ]
  },
  {
   "cell_type": "markdown",
   "metadata": {},
   "source": [
    "`texts_splited[\"hogera\"]`と`texts_splited[\"hogehoge\"]`は追加できるテキストがあるので，それぞれ`ほげら太郎`と`42`を追加しています．\n"
   ]
  },
  {
   "cell_type": "markdown",
   "metadata": {},
   "source": [
    "for文のブロックを解説しました．\n",
    "このfor文を実行することで，下記のような結果になります．\n"
   ]
  },
  {
   "cell_type": "code",
   "execution_count": 20,
   "metadata": {},
   "outputs": [],
   "source": [
    "# 解説のために変数`texts_splited`を初期化\n",
    "texts_splited = {\n",
    "    \"hoge\" : [],\n",
    "    \"fuga\" : [],\n",
    "    \"piyo\" : [],\n",
    "    \"hogera\" : [],\n",
    "    \"hogehoge\" : [],\n",
    "}\n",
    "\n",
    "for text in texts:\n",
    "    spl = text.split('　')\n",
    "    spl_len = len(spl)\n",
    "    if spl_len == 5:\n",
    "        texts_splited[\"hoge\"].append(spl[0])\n",
    "        texts_splited[\"fuga\"].append(spl[1])\n",
    "        texts_splited[\"piyo\"].append(spl[2])\n",
    "        texts_splited[\"hogera\"].append(spl[3])\n",
    "        texts_splited[\"hogehoge\"].append(spl[4])\n",
    "    elif spl_len == 4:\n",
    "        texts_splited[\"hoge\"].append(spl[0])\n",
    "        texts_splited[\"fuga\"].append(spl[1])\n",
    "        texts_splited[\"piyo\"].append('None')\n",
    "        texts_splited[\"hogera\"].append(spl[2])\n",
    "        texts_splited[\"hogehoge\"].append(spl[3])"
   ]
  },
  {
   "cell_type": "code",
   "execution_count": 21,
   "metadata": {},
   "outputs": [
    {
     "data": {
      "text/plain": [
       "{'hoge': ['ほげ', 'ほげ', 'ほげ'],\n",
       " 'fuga': ['ふが', 'ふが23', 'ふが23'],\n",
       " 'piyo': ['None', 'ぴよ', 'ぴよ'],\n",
       " 'hogera': ['ほげら太郎', 'ほげら花子', 'ほげら花子'],\n",
       " 'hogehoge': ['42', '1729', '1984']}"
      ]
     },
     "execution_count": 21,
     "metadata": {},
     "output_type": "execute_result"
    }
   ],
   "source": [
    "texts_splited"
   ]
  },
  {
   "cell_type": "markdown",
   "metadata": {},
   "source": [
    "全角空白で分割した結果を`dict`型の変数`texts_splited`に格納した結果が得られました．\n",
    "この結果を利用しやすくするために，`pandas.DataFrame`型にします．\n"
   ]
  },
  {
   "cell_type": "code",
   "execution_count": 22,
   "metadata": {},
   "outputs": [
    {
     "data": {
      "text/html": [
       "<div>\n",
       "<style scoped>\n",
       "    .dataframe tbody tr th:only-of-type {\n",
       "        vertical-align: middle;\n",
       "    }\n",
       "\n",
       "    .dataframe tbody tr th {\n",
       "        vertical-align: top;\n",
       "    }\n",
       "\n",
       "    .dataframe thead th {\n",
       "        text-align: right;\n",
       "    }\n",
       "</style>\n",
       "<table border=\"1\" class=\"dataframe\">\n",
       "  <thead>\n",
       "    <tr style=\"text-align: right;\">\n",
       "      <th></th>\n",
       "      <th>hoge</th>\n",
       "      <th>fuga</th>\n",
       "      <th>piyo</th>\n",
       "      <th>hogera</th>\n",
       "      <th>hogehoge</th>\n",
       "    </tr>\n",
       "  </thead>\n",
       "  <tbody>\n",
       "    <tr>\n",
       "      <th>0</th>\n",
       "      <td>ほげ</td>\n",
       "      <td>ふが</td>\n",
       "      <td>None</td>\n",
       "      <td>ほげら太郎</td>\n",
       "      <td>42</td>\n",
       "    </tr>\n",
       "    <tr>\n",
       "      <th>1</th>\n",
       "      <td>ほげ</td>\n",
       "      <td>ふが23</td>\n",
       "      <td>ぴよ</td>\n",
       "      <td>ほげら花子</td>\n",
       "      <td>1729</td>\n",
       "    </tr>\n",
       "    <tr>\n",
       "      <th>2</th>\n",
       "      <td>ほげ</td>\n",
       "      <td>ふが23</td>\n",
       "      <td>ぴよ</td>\n",
       "      <td>ほげら花子</td>\n",
       "      <td>1984</td>\n",
       "    </tr>\n",
       "  </tbody>\n",
       "</table>\n",
       "</div>"
      ],
      "text/plain": [
       "  hoge  fuga  piyo hogera hogehoge\n",
       "0   ほげ    ふが  None  ほげら太郎       42\n",
       "1   ほげ  ふが23    ぴよ  ほげら花子     1729\n",
       "2   ほげ  ふが23    ぴよ  ほげら花子     1984"
      ]
     },
     "execution_count": 22,
     "metadata": {},
     "output_type": "execute_result"
    }
   ],
   "source": [
    "df = pd.DataFrame(texts_splited, columns=texts_splited.keys())\n",
    "df"
   ]
  },
  {
   "cell_type": "markdown",
   "metadata": {},
   "source": [
    "`pandas.DataFrame`型にすることで，結果を確認しやすくなったと思います．\n",
    "こうすることで，次のように可視化も行えます．\n"
   ]
  },
  {
   "cell_type": "code",
   "execution_count": 23,
   "metadata": {},
   "outputs": [
    {
     "data": {
      "text/plain": [
       "<Axes: xlabel='fuga'>"
      ]
     },
     "execution_count": 23,
     "metadata": {},
     "output_type": "execute_result"
    },
    {
     "data": {
      "image/png": "[encoded data removed]",
      "text/plain": [
       "<Figure size 640x480 with 1 Axes>"
      ]
     },
     "metadata": {},
     "output_type": "display_data"
    }
   ],
   "source": [
    "df['fuga'].value_counts().plot(kind='bar')"
   ]
  },
  {
   "cell_type": "markdown",
   "metadata": {},
   "source": [
    "## 【拡張】分割する項目を追加する場合"
   ]
  },
  {
   "cell_type": "code",
   "execution_count": 24,
   "metadata": {},
   "outputs": [],
   "source": [
    "texts = [\n",
    "    'ほげ　ふが　ほげら太郎　42',\n",
    "    'ほげ　ふが23　ぴよ　ほげら花子　1729',\n",
    "    'ほげ　ふが23　ぴよ　ほげら花子　1984',\n",
    "    'ほげ　ふが23　ぴよ　ほげら花子　1984　fuga23',\n",
    "    'ほげ　ふが23　ぴよ　ほげら花子　1984　fuga42',\n",
    "    ]"
   ]
  },
  {
   "cell_type": "code",
   "execution_count": 25,
   "metadata": {},
   "outputs": [],
   "source": [
    "\n",
    "texts_splited = {\n",
    "    \"hoge\" : [],\n",
    "    \"fuga\" : [],\n",
    "    \"piyo\" : [],\n",
    "    \"hogera\" : [],\n",
    "    \"hogehoge\" : [],\n",
    "    \"fugafuga\" : [],  # 追加\n",
    "}\n",
    "for text in texts:\n",
    "    spl = text.split('　')\n",
    "    spl_len = len(spl)\n",
    "    if spl_len == 5:\n",
    "        texts_splited[\"hoge\"].append(spl[0])\n",
    "        texts_splited[\"fuga\"].append(spl[1])\n",
    "        texts_splited[\"piyo\"].append(spl[2])\n",
    "        texts_splited[\"hogera\"].append(spl[3])\n",
    "        texts_splited[\"hogehoge\"].append(spl[4])\n",
    "   \n",
    "        texts_splited[\"fugafuga\"].append('None')  # 追加\n",
    "\n",
    "    elif spl_len == 4:\n",
    "        texts_splited[\"hoge\"].append(spl[0])\n",
    "        texts_splited[\"fuga\"].append(spl[1])\n",
    "        texts_splited[\"piyo\"].append('None')\n",
    "        texts_splited[\"hogera\"].append(spl[2])\n",
    "        texts_splited[\"hogehoge\"].append(spl[3])\n",
    "   \n",
    "        texts_splited[\"fugafuga\"].append('None')  # 追加\n",
    "\n",
    "    # 追加\n",
    "    elif spl_len == 6:\n",
    "        texts_splited[\"hoge\"].append(spl[0])\n",
    "        texts_splited[\"fuga\"].append(spl[1])\n",
    "        texts_splited[\"piyo\"].append(spl[2])\n",
    "        texts_splited[\"hogera\"].append(spl[3])\n",
    "        texts_splited[\"hogehoge\"].append(spl[4])\n",
    "        texts_splited[\"fugafuga\"].append(spl[5])\n",
    "\n",
    "df = pd.DataFrame(texts_splited, columns=texts_splited.keys())\n"
   ]
  },
  {
   "cell_type": "code",
   "execution_count": 26,
   "metadata": {},
   "outputs": [
    {
     "data": {
      "text/html": [
       "<div>\n",
       "<style scoped>\n",
       "    .dataframe tbody tr th:only-of-type {\n",
       "        vertical-align: middle;\n",
       "    }\n",
       "\n",
       "    .dataframe tbody tr th {\n",
       "        vertical-align: top;\n",
       "    }\n",
       "\n",
       "    .dataframe thead th {\n",
       "        text-align: right;\n",
       "    }\n",
       "</style>\n",
       "<table border=\"1\" class=\"dataframe\">\n",
       "  <thead>\n",
       "    <tr style=\"text-align: right;\">\n",
       "      <th></th>\n",
       "      <th>hoge</th>\n",
       "      <th>fuga</th>\n",
       "      <th>piyo</th>\n",
       "      <th>hogera</th>\n",
       "      <th>hogehoge</th>\n",
       "      <th>fugafuga</th>\n",
       "    </tr>\n",
       "  </thead>\n",
       "  <tbody>\n",
       "    <tr>\n",
       "      <th>0</th>\n",
       "      <td>ほげ</td>\n",
       "      <td>ふが</td>\n",
       "      <td>None</td>\n",
       "      <td>ほげら太郎</td>\n",
       "      <td>42</td>\n",
       "      <td>None</td>\n",
       "    </tr>\n",
       "    <tr>\n",
       "      <th>1</th>\n",
       "      <td>ほげ</td>\n",
       "      <td>ふが23</td>\n",
       "      <td>ぴよ</td>\n",
       "      <td>ほげら花子</td>\n",
       "      <td>1729</td>\n",
       "      <td>None</td>\n",
       "    </tr>\n",
       "    <tr>\n",
       "      <th>2</th>\n",
       "      <td>ほげ</td>\n",
       "      <td>ふが23</td>\n",
       "      <td>ぴよ</td>\n",
       "      <td>ほげら花子</td>\n",
       "      <td>1984</td>\n",
       "      <td>None</td>\n",
       "    </tr>\n",
       "    <tr>\n",
       "      <th>3</th>\n",
       "      <td>ほげ</td>\n",
       "      <td>ふが23</td>\n",
       "      <td>ぴよ</td>\n",
       "      <td>ほげら花子</td>\n",
       "      <td>1984</td>\n",
       "      <td>fuga23</td>\n",
       "    </tr>\n",
       "    <tr>\n",
       "      <th>4</th>\n",
       "      <td>ほげ</td>\n",
       "      <td>ふが23</td>\n",
       "      <td>ぴよ</td>\n",
       "      <td>ほげら花子</td>\n",
       "      <td>1984</td>\n",
       "      <td>fuga42</td>\n",
       "    </tr>\n",
       "  </tbody>\n",
       "</table>\n",
       "</div>"
      ],
      "text/plain": [
       "  hoge  fuga  piyo hogera hogehoge fugafuga\n",
       "0   ほげ    ふが  None  ほげら太郎       42     None\n",
       "1   ほげ  ふが23    ぴよ  ほげら花子     1729     None\n",
       "2   ほげ  ふが23    ぴよ  ほげら花子     1984     None\n",
       "3   ほげ  ふが23    ぴよ  ほげら花子     1984   fuga23\n",
       "4   ほげ  ふが23    ぴよ  ほげら花子     1984   fuga42"
      ]
     },
     "execution_count": 26,
     "metadata": {},
     "output_type": "execute_result"
    }
   ],
   "source": [
    "df"
   ]
  }
 ],
 "metadata": {
  "kernelspec": {
   "display_name": "lightgbm",
   "language": "python",
   "name": "python3"
  },
  "language_info": {
   "codemirror_mode": {
    "name": "ipython",
    "version": 3
   },
   "file_extension": ".py",
   "mimetype": "text/x-python",
   "name": "python",
   "nbconvert_exporter": "python",
   "pygments_lexer": "ipython3",
   "version": "3.8.10"
  }
 },
 "nbformat": 4,
 "nbformat_minor": 2
}
